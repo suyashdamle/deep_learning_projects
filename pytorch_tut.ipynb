{
  "nbformat": 4,
  "nbformat_minor": 0,
  "metadata": {
    "colab": {
      "name": "pytorch_tut.ipynb",
      "version": "0.3.2",
      "provenance": [],
      "collapsed_sections": [],
      "include_colab_link": true
    },
    "kernelspec": {
      "name": "python3",
      "display_name": "Python 3"
    },
    "accelerator": "GPU"
  },
  "cells": [
    {
      "cell_type": "markdown",
      "metadata": {
        "id": "view-in-github",
        "colab_type": "text"
      },
      "source": [
        "<a href=\"https://colab.research.google.com/github/suyashdamle/deep_learning_projects/blob/master/pytorch_tut.ipynb\" target=\"_parent\"><img src=\"https://colab.research.google.com/assets/colab-badge.svg\" alt=\"Open In Colab\"/></a>"
      ]
    },
    {
      "cell_type": "code",
      "metadata": {
        "id": "_24a0APNNHiT",
        "colab_type": "code",
        "colab": {}
      },
      "source": [
        "import torch\n",
        "import numpy as np"
      ],
      "execution_count": 0,
      "outputs": []
    },
    {
      "cell_type": "code",
      "metadata": {
        "id": "2idHzlOeNbEu",
        "colab_type": "code",
        "outputId": "a7fd95f3-9612-469f-81ee-fb74fd17909c",
        "colab": {
          "base_uri": "https://localhost:8080/",
          "height": 34
        }
      },
      "source": [
        "torch.cuda.get_device_name(0)"
      ],
      "execution_count": 2,
      "outputs": [
        {
          "output_type": "execute_result",
          "data": {
            "text/plain": [
              "'Tesla T4'"
            ]
          },
          "metadata": {
            "tags": []
          },
          "execution_count": 2
        }
      ]
    },
    {
      "cell_type": "markdown",
      "metadata": {
        "id": "VZ4uV9PSPSoe",
        "colab_type": "text"
      },
      "source": [
        "# NOTES:\n",
        "- Memory is shared between np and torch arrays, after inter-conversions - a change in one reflects in other\n",
        "- **IMP:  Underscores (' _ ')  represent in-place ops**\n",
        "-  The first dimension could be keprt the batch_size. Then,\n",
        "    - W1 : ip_features X n_hidden_1\n",
        "    - W2 : n_hidden_1 X n_hidden_2 & so on...\n",
        "- AutoGrad keeps track of outputs of the **leaf nodes only** - in this case, only weights and biases: [look this up](https://towardsdatascience.com/pytorch-autograd-understanding-the-heart-of-pytorchs-magic-2686cd94ec95)\n",
        "- Be careful with the leaf variables:\n",
        "  - They should not be overwritten by other objects (ie, ops such as W1 = W1 - lr*grad)\n",
        "  - In-place ops are NOT allowed over them\n",
        "  - So, just use the '.data'  notation to replace values during update operations"
      ]
    },
    {
      "cell_type": "markdown",
      "metadata": {
        "id": "Qhk74BjHTG7W",
        "colab_type": "text"
      },
      "source": [
        "# Simple Feed-Forward net from scratch using AutoGrad feature"
      ]
    },
    {
      "cell_type": "code",
      "metadata": {
        "id": "zOEojxYPPlyi",
        "colab_type": "code",
        "colab": {}
      },
      "source": [
        "import matplotlib.pyplot as plt\n",
        "%matplotlib inline\n",
        "from torchvision import datasets, transforms"
      ],
      "execution_count": 0,
      "outputs": []
    },
    {
      "cell_type": "code",
      "metadata": {
        "id": "5hoQPBg-Tlgg",
        "colab_type": "code",
        "colab": {
          "base_uri": "https://localhost:8080/",
          "height": 260
        },
        "outputId": "378d10d1-113b-4232-fd33-612ddd61757b"
      },
      "source": [
        "trainset = datasets.MNIST('data/',download = True, train= True, transform=transforms.ToTensor())                 #convert images to tensors\n",
        "testset = datasets.MNIST('data/',download = True, train= False, transform=transforms.ToTensor())\n",
        "loader = torch.utils.data.DataLoader(trainset,batch_size = 100, shuffle=True)\n",
        "data_iter = iter(loader)"
      ],
      "execution_count": 4,
      "outputs": [
        {
          "output_type": "stream",
          "text": [
            "  0%|          | 0/9912422 [00:00<?, ?it/s]"
          ],
          "name": "stderr"
        },
        {
          "output_type": "stream",
          "text": [
            "Downloading http://yann.lecun.com/exdb/mnist/train-images-idx3-ubyte.gz to data/MNIST/raw/train-images-idx3-ubyte.gz\n"
          ],
          "name": "stdout"
        },
        {
          "output_type": "stream",
          "text": [
            "9920512it [00:00, 20671408.31it/s]                            \n"
          ],
          "name": "stderr"
        },
        {
          "output_type": "stream",
          "text": [
            "Extracting data/MNIST/raw/train-images-idx3-ubyte.gz\n"
          ],
          "name": "stdout"
        },
        {
          "output_type": "stream",
          "text": [
            "32768it [00:00, 316144.21it/s]                           \n",
            "0it [00:00, ?it/s]"
          ],
          "name": "stderr"
        },
        {
          "output_type": "stream",
          "text": [
            "Downloading http://yann.lecun.com/exdb/mnist/train-labels-idx1-ubyte.gz to data/MNIST/raw/train-labels-idx1-ubyte.gz\n",
            "Extracting data/MNIST/raw/train-labels-idx1-ubyte.gz\n",
            "Downloading http://yann.lecun.com/exdb/mnist/t10k-images-idx3-ubyte.gz to data/MNIST/raw/t10k-images-idx3-ubyte.gz\n"
          ],
          "name": "stdout"
        },
        {
          "output_type": "stream",
          "text": [
            "1654784it [00:00, 5082206.04it/s]                           \n",
            "8192it [00:00, 128232.86it/s]\n"
          ],
          "name": "stderr"
        },
        {
          "output_type": "stream",
          "text": [
            "Extracting data/MNIST/raw/t10k-images-idx3-ubyte.gz\n",
            "Downloading http://yann.lecun.com/exdb/mnist/t10k-labels-idx1-ubyte.gz to data/MNIST/raw/t10k-labels-idx1-ubyte.gz\n",
            "Extracting data/MNIST/raw/t10k-labels-idx1-ubyte.gz\n",
            "Processing...\n",
            "Done!\n"
          ],
          "name": "stdout"
        }
      ]
    },
    {
      "cell_type": "code",
      "metadata": {
        "id": "epwWjAZ8UG2H",
        "colab_type": "code",
        "outputId": "f2d8a03e-4b6b-4dd8-8323-0667dbafd6d3",
        "colab": {
          "base_uri": "https://localhost:8080/",
          "height": 304
        }
      },
      "source": [
        "images,labels = data_iter.next()\n",
        "print(images.shape)\n",
        "plt.imshow(images[0].numpy().squeeze(),cmap='gray')\n",
        "plt.show()\n",
        "print(labels[0])"
      ],
      "execution_count": 5,
      "outputs": [
        {
          "output_type": "stream",
          "text": [
            "torch.Size([100, 1, 28, 28])\n"
          ],
          "name": "stdout"
        },
        {
          "output_type": "display_data",
          "data": {
            "image/png": "[encoded data removed]",
            "text/plain": [
              "<Figure size 432x288 with 1 Axes>"
            ]
          },
          "metadata": {
            "tags": []
          }
        },
        {
          "output_type": "stream",
          "text": [
            "tensor(9)\n"
          ],
          "name": "stdout"
        }
      ]
    },
    {
      "cell_type": "code",
      "metadata": {
        "id": "uRY8W8ZhWUhk",
        "colab_type": "code",
        "colab": {}
      },
      "source": [
        "# defining the weights\n",
        "W1 = torch.tensor(np.random.normal(loc = 0., scale=0.01, size=(784,300)),requires_grad=True,dtype=torch.float)\n",
        "B1 = torch.tensor(np.random.normal(loc = 0., scale=0.01, size=(1,300)),requires_grad = True,dtype=torch.float)\n",
        "\n",
        "W2 = torch.tensor(np.random.normal(loc = 0., scale=0.01, size=(300,100)), requires_grad=True,dtype=torch.float)\n",
        "B2 = torch.tensor(np.random.normal(loc = 0., scale=0.01, size=(1,100)),requires_grad = True,dtype=torch.float)\n",
        "\n",
        "W3 = torch.tensor(np.random.normal(loc = 0., scale=0.01, size=(100,10)), requires_grad=True,dtype=torch.float)\n",
        "B3 = torch.tensor(np.random.normal(loc = 0., scale=0.01, size=(1,10)),requires_grad = True,dtype=torch.float)\n",
        "\n",
        "\n",
        "lr = 0.01"
      ],
      "execution_count": 0,
      "outputs": []
    },
    {
      "cell_type": "code",
      "metadata": {
        "id": "Iu3M1YPkZW4k",
        "colab_type": "code",
        "colab": {}
      },
      "source": [
        "loss_fn = torch.nn.CrossEntropyLoss()\n",
        "\n",
        "def forward_pass(X):\n",
        "  X = X.view(-1,784)\n",
        "  h1 = torch.tanh(torch.mm(X,W1)+B1)     # batch_size X n_hidden_1\n",
        "  h2 = torch.tanh(torch.mm(h1,W2)+B2)    # batch_size X n_hidden_2\n",
        "  o = torch.tanh(torch.mm(h2,W3)+B3)     # batch_size X n_output\n",
        "  \n",
        "  # softmax\n",
        "  d_r = torch.sum(torch.exp(o),dim=1)    # the denominator: size(50,)\n",
        "  d_r = d_r.view(-1,1)                   # one sum - per row\n",
        "  logits = torch.exp(o)/d_r \n",
        "  return logits\n",
        "\n",
        "def backward_pass(logits,y):\n",
        "  global W1, W2, B1, B2, W3, B3\n",
        "  \n",
        "  # get cross-entropy loss\n",
        "  loss = loss_fn(logits, y)\n",
        "  # calculate the gradients\n",
        "  loss.backward()\n",
        "  \n",
        "  # update the weights and biases accordingly\n",
        "  # NOTE: directly using mathematical operations would overwrite variables - they would not be leaves anymore\n",
        "  # NOTE: leaf variables could not be directly operated upon\n",
        "  # Using the average of the gradient over the batch\n",
        "\n",
        "  W1.data = W1.sub(lr*W1.grad.data).data\n",
        "  B1.data = B1.sub(lr*B1.grad.data).data\n",
        "  W2.data = W2.sub(lr*W2.grad.data).data\n",
        "  B2.data = B2.sub(lr*B2.grad.data).data\n",
        "  W3.data = W3.sub(lr*W3.grad.data).data\n",
        "  B3.data = B3.sub(lr*B3.grad.data).data\n",
        "  return  loss"
      ],
      "execution_count": 0,
      "outputs": []
    },
    {
      "cell_type": "code",
      "metadata": {
        "id": "3LBJYUgKahYn",
        "colab_type": "code",
        "outputId": "fee9d074-7bdf-451d-ab5c-d7713951c888",
        "colab": {
          "base_uri": "https://localhost:8080/",
          "height": 260
        }
      },
      "source": [
        "display_step = 5\n",
        "for ep in range(20):\n",
        "  data_iter = iter(loader)                 # resetting the iterator\n",
        "  for images,labels in data_iter:          # a mini-batch\n",
        "    logits= forward_pass(images)           # getting the probs\n",
        "    loss = backward_pass(logits, labels)   # updating weights for this mini-batch\n",
        "  if ep%display_step == 0:\n",
        "    print(\"Epoch # %d: Loss: %f\"%(ep, loss.data))\n",
        "    \n",
        "# print a sample of labels and predictions to get a feel\n",
        "print(logits.argmax(dim=1))\n",
        "print(labels)"
      ],
      "execution_count": 41,
      "outputs": [
        {
          "output_type": "stream",
          "text": [
            "Epoch # 0: Loss: 2.153310\n",
            "Epoch # 5: Loss: 2.049981\n",
            "Epoch # 10: Loss: 2.036253\n",
            "Epoch # 15: Loss: 2.034521\n",
            "tensor([9, 5, 9, 8, 9, 9, 3, 9, 0, 0, 4, 5, 1, 1, 3, 5, 0, 3, 9, 9, 2, 1, 2, 8,\n",
            "        5, 9, 5, 2, 2, 1, 1, 5, 9, 5, 2, 1, 9, 6, 9, 5, 1, 9, 9, 5, 2, 9, 6, 3,\n",
            "        6, 9, 3, 8, 9, 9, 9, 1, 4, 3, 9, 4, 9, 2, 3, 4, 1, 5, 4, 2, 9, 2, 5, 3,\n",
            "        5, 6, 9, 1, 1, 9, 4, 9, 7, 6, 8, 1, 3, 6, 5, 5, 2, 5, 1, 2, 3, 4, 9, 6,\n",
            "        8, 2, 9, 4])\n",
            "tensor([9, 5, 4, 5, 7, 4, 3, 8, 0, 9, 4, 0, 1, 1, 3, 5, 0, 3, 9, 4, 2, 2, 8, 5,\n",
            "        0, 9, 0, 2, 3, 1, 1, 0, 8, 9, 2, 1, 9, 6, 3, 0, 1, 7, 3, 5, 2, 8, 6, 3,\n",
            "        6, 7, 3, 0, 4, 1, 9, 1, 4, 3, 7, 4, 2, 2, 3, 4, 1, 0, 5, 3, 7, 2, 7, 3,\n",
            "        5, 6, 7, 1, 1, 7, 4, 9, 7, 6, 5, 1, 0, 6, 4, 1, 2, 0, 1, 1, 3, 4, 8, 6,\n",
            "        8, 3, 4, 4])\n"
          ],
          "name": "stdout"
        }
      ]
    },
    {
      "cell_type": "code",
      "metadata": {
        "id": "nPFrhT5SO75T",
        "colab_type": "code",
        "colab": {}
      },
      "source": [
        ""
      ],
      "execution_count": 0,
      "outputs": []
    }
  ]
}