{
  "nbformat": 4,
  "nbformat_minor": 0,
  "metadata": {
    "colab": {
      "name": "pytorch_tut.ipynb",
      "version": "0.3.2",
      "provenance": [],
      "collapsed_sections": [],
      "include_colab_link": true
    },
    "kernelspec": {
      "name": "python3",
      "display_name": "Python 3"
    },
    "accelerator": "GPU"
  },
  "cells": [
    {
      "cell_type": "markdown",
      "metadata": {
        "id": "view-in-github",
        "colab_type": "text"
      },
      "source": [
        "<a href=\"https://colab.research.google.com/github/suyashdamle/deep_learning_projects/blob/master/pytorch_tut.ipynb\" target=\"_parent\"><img src=\"https://colab.research.google.com/assets/colab-badge.svg\" alt=\"Open In Colab\"/></a>"
      ]
    },
    {
      "cell_type": "markdown",
      "metadata": {
        "id": "VZ4uV9PSPSoe",
        "colab_type": "text"
      },
      "source": [
        "# NOTES:\n",
        "- Memory is shared between np and torch arrays, after inter-conversions - a change in one reflects in other\n",
        "- **IMP:  Underscores (' _ ')  represent in-place ops**\n",
        "-  The first dimension could be keprt the batch_size. Then,\n",
        "    - W1 : ip_features X n_hidden_1\n",
        "    - W2 : n_hidden_1 X n_hidden_2 & so on...\n",
        "- AutoGrad keeps track of outputs of the **leaf nodes only** - in this case, only weights and biases: [look this up](https://towardsdatascience.com/pytorch-autograd-understanding-the-heart-of-pytorchs-magic-2686cd94ec95)\n",
        "- Be careful with the leaf variables:\n",
        "  - They should not be overwritten by other objects (ie, ops such as W1 = W1 - lr*grad)\n",
        "  - In-place ops are NOT allowed over them\n",
        "  - So, just use the '.data'  notation to replace values during update operations"
      ]
    },
    {
      "cell_type": "code",
      "metadata": {
        "id": "_24a0APNNHiT",
        "colab_type": "code",
        "colab": {}
      },
      "source": [
        "import torch\n",
        "import numpy as np\n",
        "import matplotlib.pyplot as plt\n",
        "%matplotlib inline\n",
        "from torchvision import datasets, transforms"
      ],
      "execution_count": 0,
      "outputs": []
    },
    {
      "cell_type": "code",
      "metadata": {
        "id": "2idHzlOeNbEu",
        "colab_type": "code",
        "outputId": "f9f18349-2a8e-455f-88c7-7cf80f6e491d",
        "colab": {
          "base_uri": "https://localhost:8080/",
          "height": 34
        }
      },
      "source": [
        "torch.cuda.get_device_name(0)"
      ],
      "execution_count": 2,
      "outputs": [
        {
          "output_type": "execute_result",
          "data": {
            "text/plain": [
              "'Tesla T4'"
            ]
          },
          "metadata": {
            "tags": []
          },
          "execution_count": 2
        }
      ]
    },
    {
      "cell_type": "markdown",
      "metadata": {
        "id": "Qhk74BjHTG7W",
        "colab_type": "text"
      },
      "source": [
        "# Simple Feed-Forward net from scratch using AutoGrad feature"
      ]
    },
    {
      "cell_type": "code",
      "metadata": {
        "id": "5hoQPBg-Tlgg",
        "colab_type": "code",
        "outputId": "40172b22-3180-4445-9bd4-2a927c6fc669",
        "colab": {
          "base_uri": "https://localhost:8080/",
          "height": 260
        }
      },
      "source": [
        "trainset = datasets.MNIST('data/',download = True, train= True, transform=transforms.ToTensor())                 #convert images to tensors\n",
        "testset = datasets.MNIST('data/',download = True, train= False, transform=transforms.ToTensor())\n",
        "loader = torch.utils.data.DataLoader(trainset,batch_size = 100, shuffle=True)\n",
        "data_iter = iter(loader)"
      ],
      "execution_count": 4,
      "outputs": [
        {
          "output_type": "stream",
          "text": [
            "\r0it [00:00, ?it/s]"
          ],
          "name": "stderr"
        },
        {
          "output_type": "stream",
          "text": [
            "Downloading http://yann.lecun.com/exdb/mnist/train-images-idx3-ubyte.gz to data/MNIST/raw/train-images-idx3-ubyte.gz\n"
          ],
          "name": "stdout"
        },
        {
          "output_type": "stream",
          "text": [
            "9920512it [00:01, 9056570.46it/s]                            \n"
          ],
          "name": "stderr"
        },
        {
          "output_type": "stream",
          "text": [
            "Extracting data/MNIST/raw/train-images-idx3-ubyte.gz\n"
          ],
          "name": "stdout"
        },
        {
          "output_type": "stream",
          "text": [
            "  0%|          | 0/28881 [00:00<?, ?it/s]"
          ],
          "name": "stderr"
        },
        {
          "output_type": "stream",
          "text": [
            "Downloading http://yann.lecun.com/exdb/mnist/train-labels-idx1-ubyte.gz to data/MNIST/raw/train-labels-idx1-ubyte.gz\n"
          ],
          "name": "stdout"
        },
        {
          "output_type": "stream",
          "text": [
            "32768it [00:00, 135748.48it/s]           \n",
            "  0%|          | 0/1648877 [00:00<?, ?it/s]"
          ],
          "name": "stderr"
        },
        {
          "output_type": "stream",
          "text": [
            "Extracting data/MNIST/raw/train-labels-idx1-ubyte.gz\n",
            "Downloading http://yann.lecun.com/exdb/mnist/t10k-images-idx3-ubyte.gz to data/MNIST/raw/t10k-images-idx3-ubyte.gz\n"
          ],
          "name": "stdout"
        },
        {
          "output_type": "stream",
          "text": [
            "1654784it [00:00, 2244510.10it/s]                            \n",
            "0it [00:00, ?it/s]"
          ],
          "name": "stderr"
        },
        {
          "output_type": "stream",
          "text": [
            "Extracting data/MNIST/raw/t10k-images-idx3-ubyte.gz\n",
            "Downloading http://yann.lecun.com/exdb/mnist/t10k-labels-idx1-ubyte.gz to data/MNIST/raw/t10k-labels-idx1-ubyte.gz\n"
          ],
          "name": "stdout"
        },
        {
          "output_type": "stream",
          "text": [
            "8192it [00:00, 51017.29it/s]            \n"
          ],
          "name": "stderr"
        },
        {
          "output_type": "stream",
          "text": [
            "Extracting data/MNIST/raw/t10k-labels-idx1-ubyte.gz\n",
            "Processing...\n",
            "Done!\n"
          ],
          "name": "stdout"
        }
      ]
    },
    {
      "cell_type": "code",
      "metadata": {
        "id": "epwWjAZ8UG2H",
        "colab_type": "code",
        "outputId": "cdec376b-2e60-446c-f124-f6383f91e7bc",
        "colab": {
          "base_uri": "https://localhost:8080/",
          "height": 304
        }
      },
      "source": [
        "images,labels = data_iter.next()\n",
        "print(images.shape)\n",
        "plt.imshow(images[0].numpy().squeeze(),cmap='gray')\n",
        "plt.show()\n",
        "print(labels[0])"
      ],
      "execution_count": 5,
      "outputs": [
        {
          "output_type": "stream",
          "text": [
            "torch.Size([100, 1, 28, 28])\n"
          ],
          "name": "stdout"
        },
        {
          "output_type": "display_data",
          "data": {
            "image/png": "[encoded data removed]",
            "text/plain": [
              "<Figure size 432x288 with 1 Axes>"
            ]
          },
          "metadata": {
            "tags": []
          }
        },
        {
          "output_type": "stream",
          "text": [
            "tensor(6)\n"
          ],
          "name": "stdout"
        }
      ]
    },
    {
      "cell_type": "code",
      "metadata": {
        "id": "uRY8W8ZhWUhk",
        "colab_type": "code",
        "colab": {}
      },
      "source": [
        "# defining the weights\n",
        "W1 = torch.tensor(np.random.normal(loc = 0., scale=0.01, size=(784,300)),requires_grad=True,dtype=torch.float)\n",
        "B1 = torch.tensor(np.random.normal(loc = 0., scale=0.01, size=(1,300)),requires_grad = True,dtype=torch.float)\n",
        "\n",
        "W2 = torch.tensor(np.random.normal(loc = 0., scale=0.01, size=(300,100)), requires_grad=True,dtype=torch.float)\n",
        "B2 = torch.tensor(np.random.normal(loc = 0., scale=0.01, size=(1,100)),requires_grad = True,dtype=torch.float)\n",
        "\n",
        "W3 = torch.tensor(np.random.normal(loc = 0., scale=0.01, size=(100,10)), requires_grad=True,dtype=torch.float)\n",
        "B3 = torch.tensor(np.random.normal(loc = 0., scale=0.01, size=(1,10)),requires_grad = True,dtype=torch.float)\n",
        "\n",
        "\n",
        "lr = 0.01"
      ],
      "execution_count": 0,
      "outputs": []
    },
    {
      "cell_type": "code",
      "metadata": {
        "id": "Iu3M1YPkZW4k",
        "colab_type": "code",
        "colab": {}
      },
      "source": [
        "def forward_pass(X):\n",
        "  X = X.view(-1,784)\n",
        "  h1 = torch.tanh(torch.mm(X,W1)+B1)     # batch_size X n_hidden_1\n",
        "  h2 = torch.tanh(torch.mm(h1,W2)+B2)    # batch_size X n_hidden_2\n",
        "  o = torch.tanh(torch.mm(h2,W3)+B3)     # batch_size X n_output\n",
        "  \n",
        "  # softmax\n",
        "  d_r = torch.sum(torch.exp(o),dim=1)    # the denominator: size(50,)\n",
        "  d_r = d_r.view(-1,1)                   # one sum - per row\n",
        "  logits = torch.exp(o)/d_r \n",
        "  return logits\n",
        "\n",
        "def backward_pass(logits,y):\n",
        "  global W1, W2, B1, B2, W3, B3\n",
        "  \n",
        "  # --- get cross-entropy loss ---\n",
        "  \n",
        "  # convert y into one-hot encodings\n",
        "  src = torch.ones_like(logits)\n",
        "  y_one_hot = torch.zeros_like(logits)\n",
        "  y_one_hot = torch.scatter(y_one_hot,1, y.view(-1,1), src)\n",
        "  \n",
        "  # in cross-entropy loss, taking mean of errors of all datapoints in this mini-batch\n",
        "  loss = -1*(y_one_hot*torch.log(logits) + (1-y_one_hot)*torch.log(1-logits)).sum(1).mean()\n",
        "  \n",
        "  # calculate the gradients\n",
        "  loss.backward()\n",
        "  \n",
        "  # update the weights and biases accordingly\n",
        "  # NOTE: directly using mathematical operations would overwrite variables - they would not be leaves anymore\n",
        "  # NOTE: leaf variables could not be directly operated upon\n",
        "  # Using the average of the gradient over the batch\n",
        "\n",
        "  W1.data = W1.sub(lr*W1.grad.data).data\n",
        "  B1.data = B1.sub(lr*B1.grad.data).data\n",
        "  W2.data = W2.sub(lr*W2.grad.data).data\n",
        "  B2.data = B2.sub(lr*B2.grad.data).data\n",
        "  W3.data = W3.sub(lr*W3.grad.data).data\n",
        "  B3.data = B3.sub(lr*B3.grad.data).data\n",
        "  return  loss"
      ],
      "execution_count": 0,
      "outputs": []
    },
    {
      "cell_type": "code",
      "metadata": {
        "id": "3LBJYUgKahYn",
        "colab_type": "code",
        "outputId": "b462e5a5-11f3-42bc-a2bd-850c338f7573",
        "colab": {
          "base_uri": "https://localhost:8080/",
          "height": 364
        }
      },
      "source": [
        "display_step = 1\n",
        "lr_update_step = 2\n",
        "\n",
        "for ep in range(10):\n",
        "  if ep%lr_update_step == 0:\n",
        "    lr = lr/2.0\n",
        "  data_iter = iter(loader)                 # resetting the iterator\n",
        "  for images,labels in data_iter:          # a mini-batch\n",
        "    logits= forward_pass(images)           # getting the probs\n",
        "    loss = backward_pass(logits, labels)   # updating weights for this mini-batch\n",
        "  if ep%display_step == 0:\n",
        "    print(\"Epoch # %d: Loss: %f\"%(ep, loss.data))\n",
        "    \n",
        "# print a sample of labels and predictions to get a feel\n",
        "print(logits.argmax(dim=1))\n",
        "print(labels)"
      ],
      "execution_count": 39,
      "outputs": [
        {
          "output_type": "stream",
          "text": [
            "Epoch # 0: Loss: 2.122714\n",
            "Epoch # 1: Loss: 1.891296\n",
            "Epoch # 2: Loss: 1.903538\n",
            "Epoch # 3: Loss: 1.859159\n",
            "Epoch # 4: Loss: 1.738800\n",
            "Epoch # 5: Loss: 1.771342\n",
            "Epoch # 6: Loss: 1.927214\n",
            "Epoch # 7: Loss: 1.840003\n",
            "Epoch # 8: Loss: 1.756873\n",
            "Epoch # 9: Loss: 1.623204\n",
            "tensor([4, 9, 0, 2, 9, 8, 4, 3, 0, 6, 8, 1, 0, 6, 1, 4, 8, 3, 5, 0, 1, 3, 0, 0,\n",
            "        6, 9, 1, 9, 1, 6, 1, 1, 6, 6, 6, 4, 5, 9, 4, 8, 9, 2, 1, 1, 4, 9, 9, 8,\n",
            "        8, 3, 9, 9, 1, 2, 1, 1, 6, 9, 5, 2, 4, 5, 8, 3, 4, 5, 1, 2, 1, 0, 1, 1,\n",
            "        1, 8, 2, 5, 0, 1, 8, 2, 7, 1, 6, 4, 1, 5, 5, 1, 1, 9, 8, 9, 8, 9, 9, 6,\n",
            "        4, 7, 3, 3])\n",
            "tensor([4, 7, 0, 2, 4, 8, 4, 3, 0, 6, 8, 1, 2, 6, 1, 4, 8, 3, 5, 0, 1, 3, 0, 0,\n",
            "        6, 7, 1, 7, 1, 6, 1, 1, 6, 6, 6, 6, 5, 9, 9, 8, 7, 2, 1, 1, 4, 7, 7, 8,\n",
            "        8, 3, 5, 4, 1, 2, 1, 1, 6, 4, 5, 2, 4, 0, 8, 3, 4, 5, 1, 5, 1, 0, 1, 1,\n",
            "        1, 8, 3, 5, 0, 1, 8, 2, 1, 1, 6, 4, 1, 5, 3, 1, 1, 7, 8, 4, 8, 7, 7, 6,\n",
            "        4, 7, 3, 3])\n"
          ],
          "name": "stdout"
        }
      ]
    },
    {
      "cell_type": "markdown",
      "metadata": {
        "id": "0-hfiK3XXwt6",
        "colab_type": "text"
      },
      "source": [
        "***\n",
        "# Training Neural Net using the torch.nn and torch.optim API on FashionMNIST"
      ]
    },
    {
      "cell_type": "code",
      "metadata": {
        "id": "nPFrhT5SO75T",
        "colab_type": "code",
        "colab": {}
      },
      "source": [
        "batch_size = 100\n",
        "trainset = datasets.FashionMNIST('data/',download = True, train= True, transform=transforms.ToTensor())\n",
        "testset = datasets.FashionMNIST('data/',download = True, train= False, transform=transforms.ToTensor())\n",
        "loader = torch.utils.data.DataLoader(trainset,batch_size = batch_size, shuffle=True)"
      ],
      "execution_count": 0,
      "outputs": []
    },
    {
      "cell_type": "code",
      "metadata": {
        "id": "_QRtqHsSY9zi",
        "colab_type": "code",
        "colab": {
          "base_uri": "https://localhost:8080/",
          "height": 304
        },
        "outputId": "6343429e-e70f-4a03-b836-87a526ac078a"
      },
      "source": [
        "images,labels = iter(loader).next()\n",
        "print(images.shape)\n",
        "plt.imshow(images[0].numpy().squeeze(),cmap='gray')\n",
        "plt.show()\n",
        "print(labels[0])"
      ],
      "execution_count": 47,
      "outputs": [
        {
          "output_type": "stream",
          "text": [
            "torch.Size([100, 1, 28, 28])\n"
          ],
          "name": "stdout"
        },
        {
          "output_type": "display_data",
          "data": {
            "image/png": "[encoded data removed]",
            "text/plain": [
              "<Figure size 432x288 with 1 Axes>"
            ]
          },
          "metadata": {
            "tags": []
          }
        },
        {
          "output_type": "stream",
          "text": [
            "tensor(6)\n"
          ],
          "name": "stdout"
        }
      ]
    },
    {
      "cell_type": "code",
      "metadata": {
        "id": "ztI8WcYVZK6V",
        "colab_type": "code",
        "colab": {}
      },
      "source": [
        "import torch.nn as nn\n",
        "import torch.optim as optim"
      ],
      "execution_count": 0,
      "outputs": []
    },
    {
      "cell_type": "code",
      "metadata": {
        "id": "9GUKe_zoZANX",
        "colab_type": "code",
        "colab": {
          "base_uri": "https://localhost:8080/",
          "height": 364
        },
        "outputId": "5c0e960e-a023-4e14-a256-c8e6886b223d"
      },
      "source": [
        "# creating a class derived from the module class- supports forward() and backward() itself\n",
        "model = nn.Sequential(nn.Linear(784,300),\n",
        "                     nn.ReLU(),\n",
        "                     nn.Linear(300,100),\n",
        "                     nn.ReLU(),\n",
        "                     nn.Linear(100,10),\n",
        "                     nn.ReLU())\n",
        "\n",
        "loss_fn= nn.CrossEntropyLoss()\n",
        "opt = optim.SGD(model.parameters(), lr = 0.01, dampening=0.7)\n",
        "n_epochs = 10\n",
        "for ep in range(n_epochs):\n",
        "  for imgs, labels in loader:\n",
        "    imgs = imgs.view(batch_size,-1) # reshape the data\n",
        "    opt.zero_grad()                 # reset gradients\n",
        "    logits =  model.forward(imgs)   # do forward pass\n",
        "    loss =  loss_fn(logits, labels) # get loss\n",
        "    loss.backward()                 # collect gradients in backward pass\n",
        "    opt.step()                      # update params\n",
        "  print(\"Epoch # %d: Loss: %f\"%(ep, loss.data))\n",
        "  \n",
        "  \n",
        "# print a sample of labels and predictions to get a feel\n",
        "print(logits.argmax(dim=1))\n",
        "print(labels)"
      ],
      "execution_count": 50,
      "outputs": [
        {
          "output_type": "stream",
          "text": [
            "Epoch # 0: Loss: 1.688304\n",
            "Epoch # 1: Loss: 1.059809\n",
            "Epoch # 2: Loss: 0.736252\n",
            "Epoch # 3: Loss: 0.742365\n",
            "Epoch # 4: Loss: 0.867676\n",
            "Epoch # 5: Loss: 0.768756\n",
            "Epoch # 6: Loss: 0.615788\n",
            "Epoch # 7: Loss: 0.770842\n",
            "Epoch # 8: Loss: 0.664202\n",
            "Epoch # 9: Loss: 0.648217\n",
            "tensor([7, 8, 5, 1, 1, 5, 9, 8, 1, 2, 6, 3, 3, 3, 5, 0, 0, 0, 9, 8, 5, 6, 8, 8,\n",
            "        1, 2, 0, 2, 9, 7, 3, 3, 6, 3, 6, 8, 8, 7, 2, 9, 1, 7, 0, 3, 7, 0, 0, 0,\n",
            "        2, 9, 2, 5, 0, 6, 5, 6, 5, 3, 6, 5, 7, 7, 9, 7, 0, 5, 3, 6, 3, 0, 2, 8,\n",
            "        5, 5, 6, 6, 1, 0, 0, 9, 5, 6, 1, 2, 8, 0, 8, 5, 9, 9, 5, 0, 2, 6, 7, 2,\n",
            "        2, 0, 6, 0])\n",
            "tensor([7, 8, 5, 1, 1, 5, 9, 8, 1, 2, 2, 3, 3, 3, 7, 6, 6, 0, 4, 8, 5, 2, 8, 8,\n",
            "        1, 2, 0, 2, 9, 7, 2, 3, 6, 3, 4, 8, 8, 7, 2, 9, 3, 7, 0, 4, 7, 0, 0, 0,\n",
            "        6, 9, 4, 5, 0, 0, 5, 6, 5, 3, 6, 7, 7, 7, 9, 7, 0, 5, 6, 6, 3, 0, 2, 8,\n",
            "        5, 5, 6, 6, 1, 3, 0, 9, 5, 4, 1, 4, 8, 6, 8, 5, 9, 9, 5, 0, 2, 4, 7, 2,\n",
            "        2, 0, 4, 0])\n"
          ],
          "name": "stdout"
        }
      ]
    },
    {
      "cell_type": "code",
      "metadata": {
        "id": "1BwTrVc1buX-",
        "colab_type": "code",
        "colab": {}
      },
      "source": [
        ""
      ],
      "execution_count": 0,
      "outputs": []
    }
  ]
}